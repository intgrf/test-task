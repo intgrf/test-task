{
 "cells": [
  {
   "cell_type": "markdown",
   "metadata": {
    "pycharm": {
     "metadata": false
    }
   },
   "source": [
    "# Research Engineer test task\n",
    "\n",
    "#### Выполнила Шарыпина Даша"
   ]
  },
  {
   "cell_type": "markdown",
   "metadata": {},
   "source": [
    "Я тренировала `resnet18` с использованием pretrained weights, так как из gpu только ноутбук.\n",
    "\n",
    "Для увеличения accuracy я использовала аугментации данных из библиотеки `albumentations`. Например: горизонтальное отражение изображения, изменение контрастности и контрастности, а так же изменение гамма-значения.\n",
    "\n",
    "В качестве оптимизатора использован `SGD` с `learning rate = 1e-3` и `momentum = 0.9`. Еще я пробовала использовать `Adam` c `learning rate = 1e-4`, но это не дало улучшения результатов: `test accuracy = 57%` за 4 эпохи. Также лучший результат получился, когда я добавила `learning rate scheduler`, который умножает learning rate на 0.1 каждые 7 эпох.\n",
    "\n",
    "В результате я получила модель с `test accuracy = 56%`"
   ]
  },
  {
   "cell_type": "code",
   "execution_count": 6,
   "metadata": {},
   "outputs": [],
   "source": [
    "%%capture\n",
    "\n",
    "from dataclasses import dataclass, replace\n",
    "from pathlib import Path\n",
    "from typing import Callable, List, Optional, Sequence, Union\n",
    "\n",
    "import pandas as pd\n",
    "import torch\n",
    "import os\n",
    "from pandas import DataFrame\n",
    "from PIL import Image\n",
    "from torch.utils.data.dataloader import default_collate\n",
    "from torch.utils.data.dataset import Dataset\n",
    "import sklearn\n",
    "import numpy as np\n",
    "from matplotlib import pyplot as plt\n",
    "\n",
    "import numpy as np\n",
    "from PIL import Image\n",
    "from torchvision import transforms\n",
    "\n",
    "from torchvision import models\n",
    "from torch.nn.modules import loss\n",
    "from torch import optim\n",
    "from torch.utils.tensorboard import SummaryWriter\n",
    "import torch.nn as nn\n",
    "from tqdm.auto import tqdm\n",
    "\n",
    "import cv2"
   ]
  },
  {
   "cell_type": "markdown",
   "metadata": {},
   "source": [
    "# Dataset\n"
   ]
  },
  {
   "cell_type": "code",
   "execution_count": 7,
   "metadata": {},
   "outputs": [],
   "source": [
    "Transform = Callable[[Image.Image], Image.Image]\n",
    "\n",
    "\n",
    "@dataclass()\n",
    "class ItemsBatch:\n",
    "    images: torch.Tensor\n",
    "    labels: torch.Tensor\n",
    "    ids: List[int]\n",
    "    paths: List[Path]\n",
    "    items: List[\"DatasetItem\"]\n",
    "\n",
    "\n",
    "@dataclass()\n",
    "class DatasetItem:\n",
    "    image: Union[torch.Tensor, Image.Image]\n",
    "    label: int\n",
    "    id: int\n",
    "    path: Path\n",
    "\n",
    "    @classmethod\n",
    "    def collate(cls, items: Sequence[\"DatasetItem\"]) -> ItemsBatch:\n",
    "        if not isinstance(items, list):\n",
    "            items = list(items)\n",
    "        return ItemsBatch(\n",
    "            images=default_collate([item.image for item in items]),\n",
    "            labels=default_collate([item.label for item in items]),\n",
    "            ids=[item.id for item in items],\n",
    "            paths=[item.path for item in items],\n",
    "            items=items,\n",
    "        )"
   ]
  },
  {
   "cell_type": "code",
   "execution_count": 8,
   "metadata": {},
   "outputs": [],
   "source": [
    "ROOT = Path(\"/home/dasha/test-task-master\")\n",
    "DATA_ROOT = ROOT / \"data/tiny-imagenet-200\"\n",
    "RESULTS_ROOT = ROOT / \"results/\"\n",
    "CHECKPOINTS = RESULTS_ROOT / \"checkpoints\"\n",
    "CHECKPOINTS.mkdir(parents=True, exist_ok=True)\n",
    "TENSORBOARD_TAG = \"pretrained_sgd\"\n",
    "CKPT_NAME = \"pretrained_sgd_model.pth\"\n",
    "DEVICE = torch.device(\"cuda\")"
   ]
  },
  {
   "cell_type": "code",
   "execution_count": 4,
   "metadata": {},
   "outputs": [],
   "source": [
    "TRAIN_PATH = DATA_ROOT / \"train\"\n",
    "VAL_PATH = DATA_ROOT / \"val\"\n",
    "ALL_FOLDERS = [\n",
    "    dir_name\n",
    "    for r, d, f in os.walk(TRAIN_PATH)\n",
    "    for dir_name in d\n",
    "    if dir_name != \"images\"\n",
    "]\n",
    "FOLDERS_TO_NUM = {val: index for index, val in enumerate(ALL_FOLDERS)}\n",
    "\n",
    "LABELS = pd.read_csv(\n",
    "    DATA_ROOT / \"words.txt\", sep=\"\\t\", header=None, index_col=0)[1].to_dict()\n",
    "VAL_LABELS = pd.read_csv(\n",
    "    DATA_ROOT / \"val\" / \"val_annotations.txt\", sep=\"\\t\", header=None, index_col=0)[1].to_dict()"
   ]
  },
  {
   "cell_type": "code",
   "execution_count": 5,
   "metadata": {},
   "outputs": [],
   "source": [
    "class TinyImagenetDataset(Dataset):\n",
    "    _transform: Optional[Transform]\n",
    "    _root: Path\n",
    "    _df: DataFrame\n",
    "\n",
    "    def __init__(self, path, transform: Optional[Transform] = None):\n",
    "        self._transform = transform\n",
    "        if not os.path.isdir(path):\n",
    "            raise NotADirectoryError(f\"{path} is not a directory.\")\n",
    "        all_files = [\n",
    "            os.path.join(r, fyle)\n",
    "            for r, d, f in os.walk(path)\n",
    "            for fyle in f\n",
    "            if \".JPEG\" in fyle\n",
    "        ]\n",
    "        labels = [\n",
    "            FOLDERS_TO_NUM.get(\n",
    "                os.path.basename(f).split(\"_\")[0],\n",
    "                FOLDERS_TO_NUM.get(VAL_LABELS.get(os.path.basename(f))),\n",
    "            )\n",
    "            for f in all_files\n",
    "        ]\n",
    "        self._df = pd.DataFrame({\"path\": all_files, \"label\": labels})\n",
    "\n",
    "    def __getitem__(self, index: int) -> DatasetItem:\n",
    "        path, label = self._df.loc[index, :]\n",
    "        image = cv2.imread(path)\n",
    "        image = cv2.cvtColor(image, cv2.COLOR_BGR2RGB)\n",
    "        if self._transform:\n",
    "            image = self._transform(image=image)\n",
    "        return DatasetItem(image=image, label=label, id=index, path=path)\n",
    "\n",
    "    def __len__(self) -> int:\n",
    "        return len(self._df)"
   ]
  },
  {
   "cell_type": "markdown",
   "metadata": {},
   "source": [
    "# Training loop"
   ]
  },
  {
   "cell_type": "markdown",
   "metadata": {},
   "source": [
    "Добавлены аугментации данных с помощью библиотеки albumentations"
   ]
  },
  {
   "cell_type": "code",
   "execution_count": 6,
   "metadata": {},
   "outputs": [],
   "source": [
    "BATCH_SIZE = 128\n",
    "\n",
    "from albumentations import Compose, RandomContrast, RandomGamma, RandomBrightness, OneOf, Normalize, HorizontalFlip\n",
    "from albumentations.pytorch import ToTensor\n",
    "\n",
    "\n",
    "transform = Compose([\n",
    "   HorizontalFlip(p=0.5),\n",
    "   OneOf(\n",
    "            [\n",
    "                RandomContrast(),\n",
    "                RandomGamma(),\n",
    "                RandomBrightness(),\n",
    "            ],\n",
    "            p = 0.5\n",
    "        ),\n",
    "   Normalize(\n",
    "        mean=[0.4802, 0.4481, 0.3975],\n",
    "        std=[0.2302, 0.2265, 0.2262]),\n",
    "   ToTensor()\n",
    "])\n",
    "\n",
    "train_dataset = TinyImagenetDataset(DATA_ROOT / \"train\", transform)\n",
    "train_loader = torch.utils.data.DataLoader(\n",
    "    train_dataset,\n",
    "    batch_size=BATCH_SIZE,\n",
    "    shuffle=True,\n",
    "    collate_fn=DatasetItem.collate,\n",
    "    num_workers=0,\n",
    ")\n",
    "\n",
    "test_dataset = TinyImagenetDataset(DATA_ROOT / \"val\" / \"images\", transform)\n",
    "test_loader = torch.utils.data.DataLoader(\n",
    "    test_dataset,\n",
    "    batch_size=BATCH_SIZE,\n",
    "    shuffle=True,\n",
    "    collate_fn=DatasetItem.collate,\n",
    "    num_workers=0,\n",
    ")\n"
   ]
  },
  {
   "cell_type": "code",
   "execution_count": 8,
   "metadata": {},
   "outputs": [],
   "source": [
    "def train(model, device, train_loader, optimizer, loss_function, epoch, writer):\n",
    "    model.train()\n",
    "    model.to(device)\n",
    "    correct = 0\n",
    "    for batch_idx, batch_data in enumerate(tqdm(train_loader)):\n",
    "        data, target = batch_data.images['image'].to(device), batch_data.labels.to(device)\n",
    "        optimizer.zero_grad()\n",
    "        output = model(data)\n",
    "        loss = loss_function(output, target)\n",
    "        loss.backward()\n",
    "        optimizer.step()\n",
    "        pred = output.argmax(dim=1, keepdim=True)\n",
    "        correct += pred.eq(target.view_as(pred)).sum().item()\n",
    "    print(\n",
    "        \"Train Epoch: {} [ ({:.0f}%)]\\tLoss: {:.6f}\".format(\n",
    "            epoch, 100.0 * correct / len(train_loader.dataset), loss.item()\n",
    "        )\n",
    "    )\n",
    "    writer.add_scalar(\"train_loss_plot\", loss.item(), global_step=epoch)\n",
    "    writer.add_scalar(\n",
    "        \"train_accuracy_plot\",\n",
    "        100.0 * correct / len(train_loader.dataset),\n",
    "        global_step=epoch,\n",
    "    )\n",
    "\n",
    "\n",
    "def test(model, device, test_loader, loss_function, epoch, writer):\n",
    "    model.eval()\n",
    "    model.to(device)\n",
    "    test_loss = 0\n",
    "    correct = 0\n",
    "    with torch.no_grad():\n",
    "        for idx, batch_data in enumerate(tqdm(test_loader)):\n",
    "            data, target = batch_data.images['image'].to(device), batch_data.labels.to(device)\n",
    "            output = model(data)\n",
    "            test_loss += loss_function(output, target).sum().item()\n",
    "            pred = output.argmax(dim=1, keepdim=True)\n",
    "            correct += pred.eq(target.view_as(pred)).sum().item()\n",
    "\n",
    "    test_loss /= len(test_loader.dataset)\n",
    "\n",
    "    print(\n",
    "        \"\\nTest set: Average loss: {:.4f}, Accuracy: {}/{} ({:.0f}%)\\n\".format(\n",
    "            test_loss,\n",
    "            correct,\n",
    "            len(test_loader.dataset),\n",
    "            100.0 * correct / len(test_loader.dataset),\n",
    "        )\n",
    "    )\n",
    "    writer.add_scalar(\"test_loss_plot\", test_loss, global_step=epoch)\n",
    "    writer.add_scalar(\n",
    "        \"test_accuracy_plot\",\n",
    "        100.0 * correct / len(test_loader.dataset),\n",
    "        global_step=epoch,\n",
    "    )"
   ]
  },
  {
   "cell_type": "code",
   "execution_count": 9,
   "metadata": {},
   "outputs": [],
   "source": [
    "model = models.resnet18(pretrained=True)\n",
    "model.fc = nn.Linear(512, 200)\n",
    "model.avgpool = nn.AdaptiveAvgPool2d(1)\n",
    "model = model.to(DEVICE)\n",
    "\n",
    "optimizer = optim.SGD(model.parameters(), lr=1e-3, momentum=0.9)\n",
    "\n",
    "loss_function = loss.CrossEntropyLoss()"
   ]
  },
  {
   "cell_type": "markdown",
   "metadata": {},
   "source": [
    "Добавлен learning rate scheduler:"
   ]
  },
  {
   "cell_type": "code",
   "execution_count": 11,
   "metadata": {},
   "outputs": [
    {
     "data": {
      "application/vnd.jupyter.widget-view+json": {
       "model_id": "000e19aa220547e08259c2668d929635",
       "version_major": 2,
       "version_minor": 0
      },
      "text/plain": [
       "HBox(children=(IntProgress(value=0, max=782), HTML(value='')))"
      ]
     },
     "metadata": {},
     "output_type": "display_data"
    },
    {
     "name": "stdout",
     "output_type": "stream",
     "text": [
      "\n",
      "Train Epoch: 0 [ (26%)]\tLoss: 3.120213\n"
     ]
    },
    {
     "data": {
      "application/vnd.jupyter.widget-view+json": {
       "model_id": "0d1d0ffc39dd45c5bb8b1a6b071bdc0f",
       "version_major": 2,
       "version_minor": 0
      },
      "text/plain": [
       "HBox(children=(IntProgress(value=0, max=79), HTML(value='')))"
      ]
     },
     "metadata": {},
     "output_type": "display_data"
    },
    {
     "name": "stdout",
     "output_type": "stream",
     "text": [
      "\n",
      "\n",
      "Test set: Average loss: 0.0197, Accuracy: 4184/10000 (42%)\n",
      "\n"
     ]
    },
    {
     "data": {
      "application/vnd.jupyter.widget-view+json": {
       "model_id": "ffa8a892d02548d3a65208900818f504",
       "version_major": 2,
       "version_minor": 0
      },
      "text/plain": [
       "HBox(children=(IntProgress(value=0, max=782), HTML(value='')))"
      ]
     },
     "metadata": {},
     "output_type": "display_data"
    },
    {
     "name": "stdout",
     "output_type": "stream",
     "text": [
      "\n",
      "Train Epoch: 1 [ (47%)]\tLoss: 1.796226\n"
     ]
    },
    {
     "data": {
      "application/vnd.jupyter.widget-view+json": {
       "model_id": "db71b42e5b8c4724a5c33f2cbe937775",
       "version_major": 2,
       "version_minor": 0
      },
      "text/plain": [
       "HBox(children=(IntProgress(value=0, max=79), HTML(value='')))"
      ]
     },
     "metadata": {},
     "output_type": "display_data"
    },
    {
     "name": "stdout",
     "output_type": "stream",
     "text": [
      "\n",
      "\n",
      "Test set: Average loss: 0.0166, Accuracy: 4911/10000 (49%)\n",
      "\n"
     ]
    },
    {
     "data": {
      "application/vnd.jupyter.widget-view+json": {
       "model_id": "eba09e5ce0214618b28a68b046a24df4",
       "version_major": 2,
       "version_minor": 0
      },
      "text/plain": [
       "HBox(children=(IntProgress(value=0, max=782), HTML(value='')))"
      ]
     },
     "metadata": {},
     "output_type": "display_data"
    },
    {
     "name": "stdout",
     "output_type": "stream",
     "text": [
      "\n",
      "Train Epoch: 2 [ (54%)]\tLoss: 1.496008\n"
     ]
    },
    {
     "data": {
      "application/vnd.jupyter.widget-view+json": {
       "model_id": "c57c6fe545894622948726aee83487d4",
       "version_major": 2,
       "version_minor": 0
      },
      "text/plain": [
       "HBox(children=(IntProgress(value=0, max=79), HTML(value='')))"
      ]
     },
     "metadata": {},
     "output_type": "display_data"
    },
    {
     "name": "stdout",
     "output_type": "stream",
     "text": [
      "\n",
      "\n",
      "Test set: Average loss: 0.0154, Accuracy: 5150/10000 (52%)\n",
      "\n"
     ]
    },
    {
     "data": {
      "application/vnd.jupyter.widget-view+json": {
       "model_id": "208fcd48fedc46849fedd653c731a976",
       "version_major": 2,
       "version_minor": 0
      },
      "text/plain": [
       "HBox(children=(IntProgress(value=0, max=782), HTML(value='')))"
      ]
     },
     "metadata": {},
     "output_type": "display_data"
    },
    {
     "name": "stdout",
     "output_type": "stream",
     "text": [
      "\n",
      "Train Epoch: 3 [ (58%)]\tLoss: 2.291593\n"
     ]
    },
    {
     "data": {
      "application/vnd.jupyter.widget-view+json": {
       "model_id": "e27ba18f52624d10b73bf6b9a4f999d1",
       "version_major": 2,
       "version_minor": 0
      },
      "text/plain": [
       "HBox(children=(IntProgress(value=0, max=79), HTML(value='')))"
      ]
     },
     "metadata": {},
     "output_type": "display_data"
    },
    {
     "name": "stdout",
     "output_type": "stream",
     "text": [
      "\n",
      "\n",
      "Test set: Average loss: 0.0148, Accuracy: 5331/10000 (53%)\n",
      "\n"
     ]
    },
    {
     "data": {
      "application/vnd.jupyter.widget-view+json": {
       "model_id": "6ae65e28561f4267a8dfb29d6db9a88c",
       "version_major": 2,
       "version_minor": 0
      },
      "text/plain": [
       "HBox(children=(IntProgress(value=0, max=782), HTML(value='')))"
      ]
     },
     "metadata": {},
     "output_type": "display_data"
    },
    {
     "name": "stdout",
     "output_type": "stream",
     "text": [
      "\n",
      "Train Epoch: 4 [ (62%)]\tLoss: 1.482135\n"
     ]
    },
    {
     "data": {
      "application/vnd.jupyter.widget-view+json": {
       "model_id": "2c51865efd1d49ddabeb20a05d30660b",
       "version_major": 2,
       "version_minor": 0
      },
      "text/plain": [
       "HBox(children=(IntProgress(value=0, max=79), HTML(value='')))"
      ]
     },
     "metadata": {},
     "output_type": "display_data"
    },
    {
     "name": "stdout",
     "output_type": "stream",
     "text": [
      "\n",
      "\n",
      "Test set: Average loss: 0.0144, Accuracy: 5497/10000 (55%)\n",
      "\n"
     ]
    },
    {
     "data": {
      "application/vnd.jupyter.widget-view+json": {
       "model_id": "b6b13eace27b4fcda3c2dc068a4b7428",
       "version_major": 2,
       "version_minor": 0
      },
      "text/plain": [
       "HBox(children=(IntProgress(value=0, max=782), HTML(value='')))"
      ]
     },
     "metadata": {},
     "output_type": "display_data"
    },
    {
     "name": "stdout",
     "output_type": "stream",
     "text": [
      "\n",
      "Train Epoch: 5 [ (65%)]\tLoss: 1.093214\n"
     ]
    },
    {
     "data": {
      "application/vnd.jupyter.widget-view+json": {
       "model_id": "b549d24f4bd242698430b146e7aae3dd",
       "version_major": 2,
       "version_minor": 0
      },
      "text/plain": [
       "HBox(children=(IntProgress(value=0, max=79), HTML(value='')))"
      ]
     },
     "metadata": {},
     "output_type": "display_data"
    },
    {
     "name": "stdout",
     "output_type": "stream",
     "text": [
      "\n",
      "\n",
      "Test set: Average loss: 0.0142, Accuracy: 5525/10000 (55%)\n",
      "\n"
     ]
    },
    {
     "data": {
      "application/vnd.jupyter.widget-view+json": {
       "model_id": "1e47c79697ad46e9b04c1a419836438c",
       "version_major": 2,
       "version_minor": 0
      },
      "text/plain": [
       "HBox(children=(IntProgress(value=0, max=782), HTML(value='')))"
      ]
     },
     "metadata": {},
     "output_type": "display_data"
    },
    {
     "name": "stdout",
     "output_type": "stream",
     "text": [
      "\n",
      "Train Epoch: 6 [ (68%)]\tLoss: 1.828206\n"
     ]
    },
    {
     "data": {
      "application/vnd.jupyter.widget-view+json": {
       "model_id": "7d6441fc00a24f708bf407d9c25a8826",
       "version_major": 2,
       "version_minor": 0
      },
      "text/plain": [
       "HBox(children=(IntProgress(value=0, max=79), HTML(value='')))"
      ]
     },
     "metadata": {},
     "output_type": "display_data"
    },
    {
     "name": "stdout",
     "output_type": "stream",
     "text": [
      "\n",
      "\n",
      "Test set: Average loss: 0.0144, Accuracy: 5547/10000 (55%)\n",
      "\n"
     ]
    },
    {
     "data": {
      "application/vnd.jupyter.widget-view+json": {
       "model_id": "354de7d61efb4f5c9ff3133b2e6a3e81",
       "version_major": 2,
       "version_minor": 0
      },
      "text/plain": [
       "HBox(children=(IntProgress(value=0, max=782), HTML(value='')))"
      ]
     },
     "metadata": {},
     "output_type": "display_data"
    },
    {
     "name": "stdout",
     "output_type": "stream",
     "text": [
      "\n",
      "Train Epoch: 7 [ (73%)]\tLoss: 1.187251\n"
     ]
    },
    {
     "data": {
      "application/vnd.jupyter.widget-view+json": {
       "model_id": "c7e08b702e7944719e7d517e59005346",
       "version_major": 2,
       "version_minor": 0
      },
      "text/plain": [
       "HBox(children=(IntProgress(value=0, max=79), HTML(value='')))"
      ]
     },
     "metadata": {},
     "output_type": "display_data"
    },
    {
     "name": "stdout",
     "output_type": "stream",
     "text": [
      "\n",
      "\n",
      "Test set: Average loss: 0.0139, Accuracy: 5588/10000 (56%)\n",
      "\n"
     ]
    },
    {
     "data": {
      "application/vnd.jupyter.widget-view+json": {
       "model_id": "86f4e5ad02cf4e7db38b69ad902cdbc7",
       "version_major": 2,
       "version_minor": 0
      },
      "text/plain": [
       "HBox(children=(IntProgress(value=0, max=782), HTML(value='')))"
      ]
     },
     "metadata": {},
     "output_type": "display_data"
    },
    {
     "name": "stdout",
     "output_type": "stream",
     "text": [
      "\n",
      "Train Epoch: 8 [ (74%)]\tLoss: 1.695534\n"
     ]
    },
    {
     "data": {
      "application/vnd.jupyter.widget-view+json": {
       "model_id": "9a6c375159024634be09e90790ecd46d",
       "version_major": 2,
       "version_minor": 0
      },
      "text/plain": [
       "HBox(children=(IntProgress(value=0, max=79), HTML(value='')))"
      ]
     },
     "metadata": {},
     "output_type": "display_data"
    },
    {
     "name": "stdout",
     "output_type": "stream",
     "text": [
      "\n",
      "\n",
      "Test set: Average loss: 0.0140, Accuracy: 5614/10000 (56%)\n",
      "\n"
     ]
    },
    {
     "data": {
      "application/vnd.jupyter.widget-view+json": {
       "model_id": "fd253df4b4d34204a1eb3330371f85bd",
       "version_major": 2,
       "version_minor": 0
      },
      "text/plain": [
       "HBox(children=(IntProgress(value=0, max=782), HTML(value='')))"
      ]
     },
     "metadata": {},
     "output_type": "display_data"
    },
    {
     "name": "stdout",
     "output_type": "stream",
     "text": [
      "\n",
      "Train Epoch: 9 [ (74%)]\tLoss: 1.140002\n"
     ]
    },
    {
     "data": {
      "application/vnd.jupyter.widget-view+json": {
       "model_id": "4b2d76aa684d4268ad148ec885600cce",
       "version_major": 2,
       "version_minor": 0
      },
      "text/plain": [
       "HBox(children=(IntProgress(value=0, max=79), HTML(value='')))"
      ]
     },
     "metadata": {},
     "output_type": "display_data"
    },
    {
     "name": "stdout",
     "output_type": "stream",
     "text": [
      "\n",
      "\n",
      "Test set: Average loss: 0.0141, Accuracy: 5617/10000 (56%)\n",
      "\n"
     ]
    }
   ],
   "source": [
    "scheduler = optim.lr_scheduler.StepLR(optimizer, step_size=7, gamma=0.1)\n",
    "\n",
    "EPOCHS = 10\n",
    "for epoch in range(EPOCHS):\n",
    "    writer = SummaryWriter(RESULTS_ROOT / TENSORBOARD_TAG)\n",
    "    \n",
    "    train(model, DEVICE, train_loader, optimizer, loss_function, epoch, writer)\n",
    "    test(model, DEVICE, test_loader, loss_function, epoch, writer)\n",
    "    scheduler.step()\n",
    "    \n",
    "    writer.close()"
   ]
  },
  {
   "cell_type": "markdown",
   "metadata": {},
   "source": [
    "Adam lr = 1e-4, epoch = 4, test acc = 57%"
   ]
  },
  {
   "cell_type": "markdown",
   "metadata": {},
   "source": [
    "# Visualisation"
   ]
  },
  {
   "cell_type": "code",
   "execution_count": 2,
   "metadata": {},
   "outputs": [],
   "source": [
    "import sklearn\n",
    "import numpy as np\n",
    "import pandas as pd\n",
    "from matplotlib import pyplot as plt"
   ]
  },
  {
   "cell_type": "markdown",
   "metadata": {},
   "source": [
    "### Loss plots"
   ]
  },
  {
   "cell_type": "code",
   "execution_count": 12,
   "metadata": {
    "scrolled": true
   },
   "outputs": [],
   "source": [
    "train_loss = pd.read_csv(RESULTS_ROOT / 'pretrained_sgd/train_loss_plot.csv')\n",
    "test_loss = pd.read_csv(RESULTS_ROOT / 'pretrained_sgd/test_loss_plot.csv')"
   ]
  },
  {
   "cell_type": "markdown",
   "metadata": {},
   "source": [
    "__Train loss__"
   ]
  },
  {
   "cell_type": "code",
   "execution_count": 19,
   "metadata": {},
   "outputs": [
    {
     "data": {
      "text/plain": [
       "[<matplotlib.lines.Line2D at 0x7f741914f828>]"
      ]
     },
     "execution_count": 19,
     "metadata": {},
     "output_type": "execute_result"
    },
    {
     "data": {
      "image/png": "[encoded data removed]",
      "text/plain": [
       "<Figure size 432x288 with 1 Axes>"
      ]
     },
     "metadata": {
      "needs_background": "light"
     },
     "output_type": "display_data"
    }
   ],
   "source": [
    "plt.plot(train_loss['Value'])"
   ]
  },
  {
   "cell_type": "markdown",
   "metadata": {},
   "source": [
    "__Test loss__"
   ]
  },
  {
   "cell_type": "code",
   "execution_count": 20,
   "metadata": {},
   "outputs": [
    {
     "data": {
      "text/plain": [
       "[<matplotlib.lines.Line2D at 0x7f74190ba5c0>]"
      ]
     },
     "execution_count": 20,
     "metadata": {},
     "output_type": "execute_result"
    },
    {
     "data": {
      "image/png": "[encoded data removed]",
      "text/plain": [
       "<Figure size 432x288 with 1 Axes>"
      ]
     },
     "metadata": {
      "needs_background": "light"
     },
     "output_type": "display_data"
    }
   ],
   "source": [
    "plt.plot(test_loss['Value'])"
   ]
  },
  {
   "cell_type": "markdown",
   "metadata": {},
   "source": [
    "### Accuracy plots"
   ]
  },
  {
   "cell_type": "code",
   "execution_count": 13,
   "metadata": {},
   "outputs": [],
   "source": [
    "train_accuracy = pd.read_csv(RESULTS_ROOT / 'pretrained_sgd/train_accuracy_plot.csv')\n",
    "test_accuracy = pd.read_csv(RESULTS_ROOT / 'pretrained_sgd/test_accuracy_plot.csv')"
   ]
  },
  {
   "cell_type": "code",
   "execution_count": 27,
   "metadata": {},
   "outputs": [
    {
     "data": {
      "text/plain": [
       "<matplotlib.legend.Legend at 0x7f74180adfd0>"
      ]
     },
     "execution_count": 27,
     "metadata": {},
     "output_type": "execute_result"
    },
    {
     "data": {
      "image/png": "[encoded data removed]",
      "text/plain": [
       "<Figure size 432x288 with 1 Axes>"
      ]
     },
     "metadata": {
      "needs_background": "light"
     },
     "output_type": "display_data"
    }
   ],
   "source": [
    "plt.plot(train_accuracy['Value'])\n",
    "plt.plot(test_accuracy['Value'])\n",
    "plt.legend(['train', 'test'])"
   ]
  },
  {
   "cell_type": "markdown",
   "metadata": {},
   "source": [
    "### Confusion matrix"
   ]
  },
  {
   "cell_type": "code",
   "execution_count": 13,
   "metadata": {},
   "outputs": [
    {
     "data": {
      "application/vnd.jupyter.widget-view+json": {
       "model_id": "2491238b89ad401493d159efe663d80e",
       "version_major": 2,
       "version_minor": 0
      },
      "text/plain": [
       "HBox(children=(IntProgress(value=0, max=79), HTML(value='')))"
      ]
     },
     "metadata": {},
     "output_type": "display_data"
    },
    {
     "name": "stdout",
     "output_type": "stream",
     "text": [
      "\n"
     ]
    }
   ],
   "source": [
    "total_correct = 0\n",
    "total_images = 0\n",
    "confusion_matrix = np.zeros([200, 200], int)\n",
    "\n",
    "with torch.no_grad():\n",
    "    for item in tqdm(test_loader):\n",
    "        images, labels = item.images['image'].to(DEVICE), item.labels.to(DEVICE)\n",
    "        outputs = model(images)\n",
    "        _, predicted = torch.max(outputs.data, 1)\n",
    "\n",
    "        total_images += labels.size(0)\n",
    "        total_correct += (predicted == labels).sum().item()\n",
    "        for i, l in enumerate(labels):\n",
    "            confusion_matrix[l.item(), predicted[i].item()] += 1"
   ]
  },
  {
   "cell_type": "code",
   "execution_count": 14,
   "metadata": {},
   "outputs": [
    {
     "data": {
      "image/png": "[encoded data removed]",
      "text/plain": [
       "<Figure size 864x864 with 1 Axes>"
      ]
     },
     "metadata": {
      "needs_background": "light"
     },
     "output_type": "display_data"
    }
   ],
   "source": [
    "plt.figure(figsize=(12, 12))\n",
    "plt.imshow(confusion_matrix, cmap=\"gist_heat\", interpolation=\"nearest\")\n",
    "plt.show()"
   ]
  }
 ],
 "metadata": {
  "kernelspec": {
   "display_name": "Python 3",
   "language": "python",
   "name": "python3"
  },
  "language_info": {
   "codemirror_mode": {
    "name": "ipython",
    "version": 3
   },
   "file_extension": ".py",
   "mimetype": "text/x-python",
   "name": "python",
   "nbconvert_exporter": "python",
   "pygments_lexer": "ipython3",
   "version": "3.6.8"
  },
  "stem_cell": {
   "cell_type": "raw",
   "metadata": {
    "pycharm": {
     "metadata": false
    }
   },
   "source": ""
  }
 },
 "nbformat": 4,
 "nbformat_minor": 4
}
